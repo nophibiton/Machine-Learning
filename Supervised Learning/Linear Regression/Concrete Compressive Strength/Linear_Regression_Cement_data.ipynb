{
 "cells": [
  {
   "cell_type": "markdown",
   "id": "6f18779d",
   "metadata": {},
   "source": [
    "# Import Necessary Libraries"
   ]
  },
  {
   "cell_type": "code",
   "execution_count": 62,
   "id": "62d33cd2",
   "metadata": {},
   "outputs": [],
   "source": [
    "import numpy as np\n",
    "import seaborn as sns\n",
    "import pandas as pd\n",
    "\n",
    "from sklearn.model_selection import train_test_split, cross_val_score, GridSearchCV\n",
    "from sklearn.linear_model import LinearRegression, SGDRegressor\n",
    "from sklearn.preprocessing import StandardScaler\n",
    "from sklearn.metrics import mean_absolute_error, mean_squared_error, r2_score\n",
    "\n",
    "import matplotlib.pyplot as plt"
   ]
  },
  {
   "cell_type": "markdown",
   "id": "aa38b42e",
   "metadata": {},
   "source": [
    "# Import data"
   ]
  },
  {
   "cell_type": "markdown",
   "id": "d56993d9",
   "metadata": {},
   "source": [
    "### The data can be acquired [here](https://archive.ics.uci.edu/ml/datasets/Concrete+Compressive+Strength)."
   ]
  },
  {
   "cell_type": "code",
   "execution_count": 45,
   "id": "b53a3a0c",
   "metadata": {},
   "outputs": [],
   "source": [
    "df = pd.read_excel(\"Concrete_Data.xls\")"
   ]
  },
  {
   "cell_type": "markdown",
   "id": "2dd966dc",
   "metadata": {},
   "source": [
    "# Explore Data"
   ]
  },
  {
   "cell_type": "code",
   "execution_count": 46,
   "id": "79ba65dc",
   "metadata": {},
   "outputs": [
    {
     "data": {
      "text/html": [
       "<div>\n",
       "<style scoped>\n",
       "    .dataframe tbody tr th:only-of-type {\n",
       "        vertical-align: middle;\n",
       "    }\n",
       "\n",
       "    .dataframe tbody tr th {\n",
       "        vertical-align: top;\n",
       "    }\n",
       "\n",
       "    .dataframe thead th {\n",
       "        text-align: right;\n",
       "    }\n",
       "</style>\n",
       "<table border=\"1\" class=\"dataframe\">\n",
       "  <thead>\n",
       "    <tr style=\"text-align: right;\">\n",
       "      <th></th>\n",
       "      <th>cement</th>\n",
       "      <th>slag</th>\n",
       "      <th>fly_ash</th>\n",
       "      <th>water</th>\n",
       "      <th>superplasiticizer</th>\n",
       "      <th>coarse_aggregates</th>\n",
       "      <th>fine_aggregate</th>\n",
       "      <th>age</th>\n",
       "      <th>compressive_strength</th>\n",
       "    </tr>\n",
       "  </thead>\n",
       "  <tbody>\n",
       "    <tr>\n",
       "      <th>0</th>\n",
       "      <td>540.0</td>\n",
       "      <td>0.0</td>\n",
       "      <td>0.0</td>\n",
       "      <td>162.0</td>\n",
       "      <td>2.5</td>\n",
       "      <td>1040.0</td>\n",
       "      <td>676.0</td>\n",
       "      <td>28</td>\n",
       "      <td>79.986111</td>\n",
       "    </tr>\n",
       "    <tr>\n",
       "      <th>1</th>\n",
       "      <td>540.0</td>\n",
       "      <td>0.0</td>\n",
       "      <td>0.0</td>\n",
       "      <td>162.0</td>\n",
       "      <td>2.5</td>\n",
       "      <td>1055.0</td>\n",
       "      <td>676.0</td>\n",
       "      <td>28</td>\n",
       "      <td>61.887366</td>\n",
       "    </tr>\n",
       "    <tr>\n",
       "      <th>2</th>\n",
       "      <td>332.5</td>\n",
       "      <td>142.5</td>\n",
       "      <td>0.0</td>\n",
       "      <td>228.0</td>\n",
       "      <td>0.0</td>\n",
       "      <td>932.0</td>\n",
       "      <td>594.0</td>\n",
       "      <td>270</td>\n",
       "      <td>40.269535</td>\n",
       "    </tr>\n",
       "    <tr>\n",
       "      <th>3</th>\n",
       "      <td>332.5</td>\n",
       "      <td>142.5</td>\n",
       "      <td>0.0</td>\n",
       "      <td>228.0</td>\n",
       "      <td>0.0</td>\n",
       "      <td>932.0</td>\n",
       "      <td>594.0</td>\n",
       "      <td>365</td>\n",
       "      <td>41.052780</td>\n",
       "    </tr>\n",
       "    <tr>\n",
       "      <th>4</th>\n",
       "      <td>198.6</td>\n",
       "      <td>132.4</td>\n",
       "      <td>0.0</td>\n",
       "      <td>192.0</td>\n",
       "      <td>0.0</td>\n",
       "      <td>978.4</td>\n",
       "      <td>825.5</td>\n",
       "      <td>360</td>\n",
       "      <td>44.296075</td>\n",
       "    </tr>\n",
       "    <tr>\n",
       "      <th>5</th>\n",
       "      <td>266.0</td>\n",
       "      <td>114.0</td>\n",
       "      <td>0.0</td>\n",
       "      <td>228.0</td>\n",
       "      <td>0.0</td>\n",
       "      <td>932.0</td>\n",
       "      <td>670.0</td>\n",
       "      <td>90</td>\n",
       "      <td>47.029847</td>\n",
       "    </tr>\n",
       "    <tr>\n",
       "      <th>6</th>\n",
       "      <td>380.0</td>\n",
       "      <td>95.0</td>\n",
       "      <td>0.0</td>\n",
       "      <td>228.0</td>\n",
       "      <td>0.0</td>\n",
       "      <td>932.0</td>\n",
       "      <td>594.0</td>\n",
       "      <td>365</td>\n",
       "      <td>43.698299</td>\n",
       "    </tr>\n",
       "    <tr>\n",
       "      <th>7</th>\n",
       "      <td>380.0</td>\n",
       "      <td>95.0</td>\n",
       "      <td>0.0</td>\n",
       "      <td>228.0</td>\n",
       "      <td>0.0</td>\n",
       "      <td>932.0</td>\n",
       "      <td>594.0</td>\n",
       "      <td>28</td>\n",
       "      <td>36.447770</td>\n",
       "    </tr>\n",
       "    <tr>\n",
       "      <th>8</th>\n",
       "      <td>266.0</td>\n",
       "      <td>114.0</td>\n",
       "      <td>0.0</td>\n",
       "      <td>228.0</td>\n",
       "      <td>0.0</td>\n",
       "      <td>932.0</td>\n",
       "      <td>670.0</td>\n",
       "      <td>28</td>\n",
       "      <td>45.854291</td>\n",
       "    </tr>\n",
       "    <tr>\n",
       "      <th>9</th>\n",
       "      <td>475.0</td>\n",
       "      <td>0.0</td>\n",
       "      <td>0.0</td>\n",
       "      <td>228.0</td>\n",
       "      <td>0.0</td>\n",
       "      <td>932.0</td>\n",
       "      <td>594.0</td>\n",
       "      <td>28</td>\n",
       "      <td>39.289790</td>\n",
       "    </tr>\n",
       "  </tbody>\n",
       "</table>\n",
       "</div>"
      ],
      "text/plain": [
       "   cement   slag  fly_ash  water  superplasiticizer  coarse_aggregates  \\\n",
       "0   540.0    0.0      0.0  162.0                2.5             1040.0   \n",
       "1   540.0    0.0      0.0  162.0                2.5             1055.0   \n",
       "2   332.5  142.5      0.0  228.0                0.0              932.0   \n",
       "3   332.5  142.5      0.0  228.0                0.0              932.0   \n",
       "4   198.6  132.4      0.0  192.0                0.0              978.4   \n",
       "5   266.0  114.0      0.0  228.0                0.0              932.0   \n",
       "6   380.0   95.0      0.0  228.0                0.0              932.0   \n",
       "7   380.0   95.0      0.0  228.0                0.0              932.0   \n",
       "8   266.0  114.0      0.0  228.0                0.0              932.0   \n",
       "9   475.0    0.0      0.0  228.0                0.0              932.0   \n",
       "\n",
       "   fine_aggregate  age  compressive_strength  \n",
       "0           676.0   28             79.986111  \n",
       "1           676.0   28             61.887366  \n",
       "2           594.0  270             40.269535  \n",
       "3           594.0  365             41.052780  \n",
       "4           825.5  360             44.296075  \n",
       "5           670.0   90             47.029847  \n",
       "6           594.0  365             43.698299  \n",
       "7           594.0   28             36.447770  \n",
       "8           670.0   28             45.854291  \n",
       "9           594.0   28             39.289790  "
      ]
     },
     "execution_count": 46,
     "metadata": {},
     "output_type": "execute_result"
    }
   ],
   "source": [
    "# show first 10 rows\n",
    "df.head(10)"
   ]
  },
  {
   "cell_type": "code",
   "execution_count": 47,
   "id": "c7bb391d",
   "metadata": {},
   "outputs": [
    {
     "data": {
      "text/plain": [
       "(1030, 9)"
      ]
     },
     "execution_count": 47,
     "metadata": {},
     "output_type": "execute_result"
    }
   ],
   "source": [
    "# show size of data\n",
    "df.shape"
   ]
  },
  {
   "cell_type": "code",
   "execution_count": 48,
   "id": "3fea8f9a",
   "metadata": {},
   "outputs": [
    {
     "data": {
      "text/html": [
       "<div>\n",
       "<style scoped>\n",
       "    .dataframe tbody tr th:only-of-type {\n",
       "        vertical-align: middle;\n",
       "    }\n",
       "\n",
       "    .dataframe tbody tr th {\n",
       "        vertical-align: top;\n",
       "    }\n",
       "\n",
       "    .dataframe thead th {\n",
       "        text-align: right;\n",
       "    }\n",
       "</style>\n",
       "<table border=\"1\" class=\"dataframe\">\n",
       "  <thead>\n",
       "    <tr style=\"text-align: right;\">\n",
       "      <th></th>\n",
       "      <th>cement</th>\n",
       "      <th>slag</th>\n",
       "      <th>fly_ash</th>\n",
       "      <th>water</th>\n",
       "      <th>superplasiticizer</th>\n",
       "      <th>coarse_aggregates</th>\n",
       "      <th>fine_aggregate</th>\n",
       "      <th>age</th>\n",
       "      <th>compressive_strength</th>\n",
       "    </tr>\n",
       "  </thead>\n",
       "  <tbody>\n",
       "    <tr>\n",
       "      <th>count</th>\n",
       "      <td>1030.000000</td>\n",
       "      <td>1030.000000</td>\n",
       "      <td>1030.000000</td>\n",
       "      <td>1030.000000</td>\n",
       "      <td>1030.000000</td>\n",
       "      <td>1030.000000</td>\n",
       "      <td>1030.000000</td>\n",
       "      <td>1030.000000</td>\n",
       "      <td>1030.000000</td>\n",
       "    </tr>\n",
       "    <tr>\n",
       "      <th>mean</th>\n",
       "      <td>281.165631</td>\n",
       "      <td>73.895485</td>\n",
       "      <td>54.187136</td>\n",
       "      <td>181.566359</td>\n",
       "      <td>6.203112</td>\n",
       "      <td>972.918592</td>\n",
       "      <td>773.578883</td>\n",
       "      <td>45.662136</td>\n",
       "      <td>35.817836</td>\n",
       "    </tr>\n",
       "    <tr>\n",
       "      <th>std</th>\n",
       "      <td>104.507142</td>\n",
       "      <td>86.279104</td>\n",
       "      <td>63.996469</td>\n",
       "      <td>21.355567</td>\n",
       "      <td>5.973492</td>\n",
       "      <td>77.753818</td>\n",
       "      <td>80.175427</td>\n",
       "      <td>63.169912</td>\n",
       "      <td>16.705679</td>\n",
       "    </tr>\n",
       "    <tr>\n",
       "      <th>min</th>\n",
       "      <td>102.000000</td>\n",
       "      <td>0.000000</td>\n",
       "      <td>0.000000</td>\n",
       "      <td>121.750000</td>\n",
       "      <td>0.000000</td>\n",
       "      <td>801.000000</td>\n",
       "      <td>594.000000</td>\n",
       "      <td>1.000000</td>\n",
       "      <td>2.331808</td>\n",
       "    </tr>\n",
       "    <tr>\n",
       "      <th>25%</th>\n",
       "      <td>192.375000</td>\n",
       "      <td>0.000000</td>\n",
       "      <td>0.000000</td>\n",
       "      <td>164.900000</td>\n",
       "      <td>0.000000</td>\n",
       "      <td>932.000000</td>\n",
       "      <td>730.950000</td>\n",
       "      <td>7.000000</td>\n",
       "      <td>23.707115</td>\n",
       "    </tr>\n",
       "    <tr>\n",
       "      <th>50%</th>\n",
       "      <td>272.900000</td>\n",
       "      <td>22.000000</td>\n",
       "      <td>0.000000</td>\n",
       "      <td>185.000000</td>\n",
       "      <td>6.350000</td>\n",
       "      <td>968.000000</td>\n",
       "      <td>779.510000</td>\n",
       "      <td>28.000000</td>\n",
       "      <td>34.442774</td>\n",
       "    </tr>\n",
       "    <tr>\n",
       "      <th>75%</th>\n",
       "      <td>350.000000</td>\n",
       "      <td>142.950000</td>\n",
       "      <td>118.270000</td>\n",
       "      <td>192.000000</td>\n",
       "      <td>10.160000</td>\n",
       "      <td>1029.400000</td>\n",
       "      <td>824.000000</td>\n",
       "      <td>56.000000</td>\n",
       "      <td>46.136287</td>\n",
       "    </tr>\n",
       "    <tr>\n",
       "      <th>max</th>\n",
       "      <td>540.000000</td>\n",
       "      <td>359.400000</td>\n",
       "      <td>200.100000</td>\n",
       "      <td>247.000000</td>\n",
       "      <td>32.200000</td>\n",
       "      <td>1145.000000</td>\n",
       "      <td>992.600000</td>\n",
       "      <td>365.000000</td>\n",
       "      <td>82.599225</td>\n",
       "    </tr>\n",
       "  </tbody>\n",
       "</table>\n",
       "</div>"
      ],
      "text/plain": [
       "            cement         slag      fly_ash        water  superplasiticizer  \\\n",
       "count  1030.000000  1030.000000  1030.000000  1030.000000        1030.000000   \n",
       "mean    281.165631    73.895485    54.187136   181.566359           6.203112   \n",
       "std     104.507142    86.279104    63.996469    21.355567           5.973492   \n",
       "min     102.000000     0.000000     0.000000   121.750000           0.000000   \n",
       "25%     192.375000     0.000000     0.000000   164.900000           0.000000   \n",
       "50%     272.900000    22.000000     0.000000   185.000000           6.350000   \n",
       "75%     350.000000   142.950000   118.270000   192.000000          10.160000   \n",
       "max     540.000000   359.400000   200.100000   247.000000          32.200000   \n",
       "\n",
       "       coarse_aggregates  fine_aggregate          age  compressive_strength  \n",
       "count        1030.000000     1030.000000  1030.000000           1030.000000  \n",
       "mean          972.918592      773.578883    45.662136             35.817836  \n",
       "std            77.753818       80.175427    63.169912             16.705679  \n",
       "min           801.000000      594.000000     1.000000              2.331808  \n",
       "25%           932.000000      730.950000     7.000000             23.707115  \n",
       "50%           968.000000      779.510000    28.000000             34.442774  \n",
       "75%          1029.400000      824.000000    56.000000             46.136287  \n",
       "max          1145.000000      992.600000   365.000000             82.599225  "
      ]
     },
     "execution_count": 48,
     "metadata": {},
     "output_type": "execute_result"
    }
   ],
   "source": [
    "# show statistics of data\n",
    "df.describe()"
   ]
  },
  {
   "cell_type": "code",
   "execution_count": 49,
   "id": "34b43df7",
   "metadata": {},
   "outputs": [
    {
     "name": "stdout",
     "output_type": "stream",
     "text": [
      "<class 'pandas.core.frame.DataFrame'>\n",
      "RangeIndex: 1030 entries, 0 to 1029\n",
      "Data columns (total 9 columns):\n",
      " #   Column                Non-Null Count  Dtype  \n",
      "---  ------                --------------  -----  \n",
      " 0   cement                1030 non-null   float64\n",
      " 1   slag                  1030 non-null   float64\n",
      " 2   fly_ash               1030 non-null   float64\n",
      " 3   water                 1030 non-null   float64\n",
      " 4   superplasiticizer     1030 non-null   float64\n",
      " 5   coarse_aggregates     1030 non-null   float64\n",
      " 6   fine_aggregate        1030 non-null   float64\n",
      " 7   age                   1030 non-null   int64  \n",
      " 8   compressive_strength  1030 non-null   float64\n",
      "dtypes: float64(8), int64(1)\n",
      "memory usage: 72.5 KB\n"
     ]
    }
   ],
   "source": [
    "# show information about samples\n",
    "df.info()"
   ]
  },
  {
   "cell_type": "code",
   "execution_count": 51,
   "id": "4aeab61e",
   "metadata": {},
   "outputs": [
    {
     "data": {
      "text/plain": [
       "cement                  0\n",
       "slag                    0\n",
       "fly_ash                 0\n",
       "water                   0\n",
       "superplasiticizer       0\n",
       "coarse_aggregates       0\n",
       "fine_aggregate          0\n",
       "age                     0\n",
       "compressive_strength    0\n",
       "dtype: int64"
      ]
     },
     "execution_count": 51,
     "metadata": {},
     "output_type": "execute_result"
    }
   ],
   "source": [
    "# check samples with missing data\n",
    "df.isna().sum()"
   ]
  },
  {
   "cell_type": "code",
   "execution_count": 52,
   "id": "fe9e4c62",
   "metadata": {},
   "outputs": [
    {
     "data": {
      "text/plain": [
       "25"
      ]
     },
     "execution_count": 52,
     "metadata": {},
     "output_type": "execute_result"
    }
   ],
   "source": [
    "# check duplicates\n",
    "df.duplicated().sum()"
   ]
  },
  {
   "cell_type": "code",
   "execution_count": 53,
   "id": "6afe579e",
   "metadata": {},
   "outputs": [],
   "source": [
    "# drop duplicate data\n",
    "df.drop_duplicates(inplace=True)"
   ]
  },
  {
   "cell_type": "code",
   "execution_count": 54,
   "id": "93f744b5",
   "metadata": {},
   "outputs": [
    {
     "data": {
      "text/plain": [
       "(1005, 9)"
      ]
     },
     "execution_count": 54,
     "metadata": {},
     "output_type": "execute_result"
    }
   ],
   "source": [
    "# check shape of data\n",
    "df.shape"
   ]
  },
  {
   "cell_type": "markdown",
   "id": "97284a10",
   "metadata": {},
   "source": [
    "# Prepare data for training"
   ]
  },
  {
   "cell_type": "code",
   "execution_count": 55,
   "id": "53b451e9",
   "metadata": {},
   "outputs": [],
   "source": [
    "# split features and target from the dataframe\n",
    "X = df.drop(\"compressive_strength\",axis=1)\n",
    "y = df[\"compressive_strength\"]"
   ]
  },
  {
   "cell_type": "code",
   "execution_count": 69,
   "id": "1d5b5259",
   "metadata": {},
   "outputs": [
    {
     "name": "stdout",
     "output_type": "stream",
     "text": [
      "Peak to Peak range by column in Raw        X:cement               438.00\n",
      "slag                 359.40\n",
      "fly_ash              200.10\n",
      "water                125.25\n",
      "superplasiticizer     32.20\n",
      "coarse_aggregates    344.00\n",
      "fine_aggregate       398.60\n",
      "age                  364.00\n",
      "dtype: float64\n",
      "Peak to Peak range by column in Normalized X:[4.1997035  4.17287482 3.1180125  5.87197829 5.44230269 4.43636686\n",
      " 4.9638934  5.71401885]\n"
     ]
    }
   ],
   "source": [
    "# scale the data using scikit learn StandardScaler\n",
    "scaler = StandardScaler()\n",
    "X_norm = scaler.fit_transform(X)\n",
    "print(f\"Peak to Peak range by column in Raw        X:{np.ptp(X,axis=0)}\")   \n",
    "print(f\"Peak to Peak range by column in Normalized X:{np.ptp(X_norm,axis=0)}\")"
   ]
  },
  {
   "cell_type": "code",
   "execution_count": 70,
   "id": "64222887",
   "metadata": {},
   "outputs": [],
   "source": [
    "# split data into training and test set\n",
    "X_train, X_test, y_train, y_test = train_test_split(X_norm, y, test_size=0.2, random_state=42)"
   ]
  },
  {
   "cell_type": "markdown",
   "id": "f355630a",
   "metadata": {},
   "source": [
    "# Define evaluation functions"
   ]
  },
  {
   "cell_type": "code",
   "execution_count": 71,
   "id": "3e26d0c2",
   "metadata": {},
   "outputs": [],
   "source": [
    "def rmse_cv(model):\n",
    "    rmse = np.sqrt(-cross_val_score(model, X, y, scoring=\"neg_mean_squared_error\", cv=10)).mean()\n",
    "    return rmse\n",
    "\n",
    "def evaluate(y, predictions):\n",
    "    mae = mean_absolute_error(y, predictions)\n",
    "    mse = mean_squared_error(y, predictions)\n",
    "    r_squared = r2_score(y, predictions)\n",
    "    return mae, mse, r_squared"
   ]
  },
  {
   "cell_type": "code",
   "execution_count": 105,
   "id": "bd2450b3",
   "metadata": {},
   "outputs": [],
   "source": [
    "models = pd.DataFrame(columns=[\"Model\", \"MAE\", \"MSE\", \"r2 Score\", \"RMSE (Cross Validated)\"])"
   ]
  },
  {
   "cell_type": "markdown",
   "id": "a1ee257c",
   "metadata": {},
   "source": [
    "# Begin Machine Learning"
   ]
  },
  {
   "cell_type": "markdown",
   "id": "3bb6de15",
   "metadata": {},
   "source": [
    "### Use [stochastic gradient descent](https://scikit-learn.org/stable/modules/generated/sklearn.linear_model.SGDRegressor.html#examples-using-sklearn-linear-model-sgdregressor)"
   ]
  },
  {
   "cell_type": "code",
   "execution_count": 106,
   "id": "6d3dc629",
   "metadata": {},
   "outputs": [
    {
     "name": "stdout",
     "output_type": "stream",
     "text": [
      "MAE: 8.919084282964999\n",
      "MSE: 125.55132813192915\n",
      "r2 Score: 0.5791502601558138\n",
      "RMSE (Cross Validated): 10.935058378434722\n"
     ]
    },
    {
     "name": "stderr",
     "output_type": "stream",
     "text": [
      "C:\\Users\\User\\AppData\\Local\\Temp\\ipykernel_15636\\1632050313.py:14: FutureWarning: The frame.append method is deprecated and will be removed from pandas in a future version. Use pandas.concat instead.\n",
      "  models = models.append(new_row, ignore_index=True)\n"
     ]
    }
   ],
   "source": [
    "# Use stochastic gradient descent \n",
    "sgdr = SGDRegressor()\n",
    "sgdr.fit(X_train, y_train)\n",
    "predictions = sgdr.predict(X_test)\n",
    "\n",
    "mae, mse, r2 = evaluate(y_test, predictions)\n",
    "rmse = rmse_cv(lin_reg)\n",
    "print(\"MAE:\", mae)\n",
    "print(\"MSE:\", mse)\n",
    "print(\"r2 Score:\", r2)\n",
    "print(\"RMSE (Cross Validated):\", rmse)\n",
    "\n",
    "new_row = {\"Model\": \"SGDRegressor\",\"MAE\": mae, \"MSE\": mse, \"r2 Score\": r2, \"RMSE (Cross Validated)\": rmse}\n",
    "models = models.append(new_row, ignore_index=True)"
   ]
  },
  {
   "cell_type": "markdown",
   "id": "e049568c",
   "metadata": {},
   "source": [
    "#### Check the parameters."
   ]
  },
  {
   "cell_type": "code",
   "execution_count": 76,
   "id": "925f7631",
   "metadata": {},
   "outputs": [
    {
     "name": "stdout",
     "output_type": "stream",
     "text": [
      "model parameters:                   w: [11.05492246  7.27714132  4.4411626  -3.79695836  1.7910742   0.33454882\n",
      "  0.54671073  6.97160688], b:[35.06535966]\n"
     ]
    }
   ],
   "source": [
    "b_norm = sgdr.intercept_\n",
    "w_norm = sgdr.coef_\n",
    "print(f\"model parameters:                   w: {w_norm}, b:{b_norm}\")"
   ]
  },
  {
   "cell_type": "code",
   "execution_count": 79,
   "id": "2c7619ec",
   "metadata": {},
   "outputs": [
    {
     "name": "stdout",
     "output_type": "stream",
     "text": [
      "prediction using np.dot() and sgdr.predict match: True\n",
      "Prediction on training set:\n",
      "[61.40395242 30.29716118 33.2937704  30.69350783]\n",
      "Target values \n",
      "79     41.299612\n",
      "29     38.603761\n",
      "304    23.138815\n",
      "531    23.848975\n",
      "Name: compressive_strength, dtype: float64\n"
     ]
    }
   ],
   "source": [
    "# make a prediction using sgdr.predict()\n",
    "y_pred_sgd = sgdr.predict(X_train)\n",
    "# make a prediction using w,b. \n",
    "y_pred = np.dot(X_train, w_norm) + b_norm  \n",
    "print(f\"prediction using np.dot() and sgdr.predict match: {(y_pred == y_pred_sgd).all()}\")\n",
    "\n",
    "print(f\"Prediction on training set:\\n{y_pred[:4]}\" )\n",
    "print(f\"Target values \\n{y_train[:4]}\")"
   ]
  },
  {
   "cell_type": "code",
   "execution_count": 102,
   "id": "8919dd39",
   "metadata": {},
   "outputs": [
    {
     "data": {
      "image/png": "[encoded data removed]",
      "text/plain": [
       "<Figure size 864x216 with 4 Axes>"
      ]
     },
     "metadata": {
      "needs_background": "light"
     },
     "output_type": "display_data"
    }
   ],
   "source": [
    "# plot predictions and targets vs original features\n",
    "X_features = ['cement','slag','fly_ash','water']\n",
    "X_train_tr = scaler.inverse_transform(X_train)\n",
    "fig,ax=plt.subplots(1,4,figsize=(12,3),sharey=True)\n",
    "for i in range(len(ax)):\n",
    "    ax[i].scatter(X_train_tr[:,i],y_train, label = 'target')\n",
    "    ax[i].set_xlabel(X_features[i])\n",
    "    ax[i].scatter(X_train_tr[:,i],y_pred_sgd,color=\"orange\", label = 'predict')\n",
    "ax[0].set_ylabel(\"Compressive Strength\"); ax[0].legend();\n",
    "fig.suptitle(\"target versus prediction using SGD Regressor\")\n",
    "plt.show()"
   ]
  },
  {
   "cell_type": "markdown",
   "id": "3601db2f",
   "metadata": {},
   "source": [
    "### Use ordinary least square regression ([linear regression model](https://scikit-learn.org/stable/modules/generated/sklearn.linear_model.LinearRegression.html))"
   ]
  },
  {
   "cell_type": "code",
   "execution_count": 107,
   "id": "fb8d3d87",
   "metadata": {},
   "outputs": [
    {
     "name": "stdout",
     "output_type": "stream",
     "text": [
      "MAE: 8.896027820458997\n",
      "MSE: 125.265338276725\n",
      "r2 Score: 0.580108901995383\n",
      "RMSE (Cross Validated): 10.935058378434722\n"
     ]
    },
    {
     "name": "stderr",
     "output_type": "stream",
     "text": [
      "C:\\Users\\User\\AppData\\Local\\Temp\\ipykernel_15636\\1641942938.py:14: FutureWarning: The frame.append method is deprecated and will be removed from pandas in a future version. Use pandas.concat instead.\n",
      "  models = models.append(new_row, ignore_index=True)\n"
     ]
    }
   ],
   "source": [
    "# Use Ordinary Least Square Regression (linear regression model)\n",
    "lin_reg = LinearRegression()\n",
    "lin_reg.fit(X_train, y_train)\n",
    "predictions = lin_reg.predict(X_test)\n",
    "\n",
    "mae, mse, r2 = evaluate(y_test, predictions)\n",
    "rmse = rmse_cv(lin_reg)\n",
    "print(\"MAE:\", mae)\n",
    "print(\"MSE:\", mse)\n",
    "print(\"r2 Score:\", r2)\n",
    "print(\"RMSE (Cross Validated):\", rmse)\n",
    "\n",
    "new_row = {\"Model\": \"LinearRegression\",\"MAE\": mae, \"MSE\": mse, \"r2 Score\": r2, \"RMSE (Cross Validated)\": rmse}\n",
    "models = models.append(new_row, ignore_index=True)"
   ]
  },
  {
   "cell_type": "code",
   "execution_count": 99,
   "id": "a2887b4f",
   "metadata": {},
   "outputs": [
    {
     "name": "stdout",
     "output_type": "stream",
     "text": [
      "model parameters:                   w: [12.16550645  8.44448472  5.42860021 -2.80988908  1.9528875   1.19941235\n",
      "  1.65540629  7.04850918], b:35.11016186198108\n"
     ]
    }
   ],
   "source": [
    "b_norm = lin_reg.intercept_\n",
    "w_norm = lin_reg.coef_\n",
    "print(f\"model parameters:                   w: {w_norm}, b:{b_norm}\")"
   ]
  },
  {
   "cell_type": "code",
   "execution_count": 101,
   "id": "571907c4",
   "metadata": {},
   "outputs": [
    {
     "name": "stdout",
     "output_type": "stream",
     "text": [
      "prediction using np.dot() and sgdr.predict match: True\n",
      "Prediction on training set:\n",
      "[61.30624058 29.57572951 33.51815289 29.81092212]\n",
      "Target values \n",
      "79     41.299612\n",
      "29     38.603761\n",
      "304    23.138815\n",
      "531    23.848975\n",
      "Name: compressive_strength, dtype: float64\n"
     ]
    }
   ],
   "source": [
    "# make a prediction using linrg.predict()\n",
    "y_pred_linrg = lin_reg.predict(X_train)\n",
    "# make a prediction using w,b. \n",
    "y_pred = np.dot(X_train, w_norm) + b_norm  \n",
    "print(f\"prediction using np.dot() and sgdr.predict match: {(y_pred == y_pred_linrg).all()}\")\n",
    "\n",
    "print(f\"Prediction on training set:\\n{y_pred[:4]}\" )\n",
    "print(f\"Target values \\n{y_train[:4]}\")"
   ]
  },
  {
   "cell_type": "code",
   "execution_count": 103,
   "id": "45f36de8",
   "metadata": {},
   "outputs": [
    {
     "data": {
      "image/png": "[encoded data removed]",
      "text/plain": [
       "<Figure size 864x216 with 4 Axes>"
      ]
     },
     "metadata": {
      "needs_background": "light"
     },
     "output_type": "display_data"
    }
   ],
   "source": [
    "# plot predictions and targets vs original features\n",
    "X_features = ['cement','slag','fly_ash','water']\n",
    "X_train_tr = scaler.inverse_transform(X_train)\n",
    "fig,ax=plt.subplots(1,4,figsize=(12,3),sharey=True)\n",
    "for i in range(len(ax)):\n",
    "    ax[i].scatter(X_train_tr[:,i],y_train, label = 'target')\n",
    "    ax[i].set_xlabel(X_features[i])\n",
    "    ax[i].scatter(X_train_tr[:,i],y_pred_linrg,color=\"orange\", label = 'predict')\n",
    "ax[0].set_ylabel(\"Compressive Strength\"); ax[0].legend();\n",
    "fig.suptitle(\"target versus prediction using SGD Regressor\")\n",
    "plt.show()"
   ]
  },
  {
   "cell_type": "markdown",
   "id": "29e2b6a4",
   "metadata": {},
   "source": [
    "## Model Comparison between LinearRegression and SGDRegressor"
   ]
  },
  {
   "cell_type": "code",
   "execution_count": 108,
   "id": "e931b7a7",
   "metadata": {},
   "outputs": [
    {
     "data": {
      "text/html": [
       "<div>\n",
       "<style scoped>\n",
       "    .dataframe tbody tr th:only-of-type {\n",
       "        vertical-align: middle;\n",
       "    }\n",
       "\n",
       "    .dataframe tbody tr th {\n",
       "        vertical-align: top;\n",
       "    }\n",
       "\n",
       "    .dataframe thead th {\n",
       "        text-align: right;\n",
       "    }\n",
       "</style>\n",
       "<table border=\"1\" class=\"dataframe\">\n",
       "  <thead>\n",
       "    <tr style=\"text-align: right;\">\n",
       "      <th></th>\n",
       "      <th>Model</th>\n",
       "      <th>MAE</th>\n",
       "      <th>MSE</th>\n",
       "      <th>r2 Score</th>\n",
       "      <th>RMSE (Cross Validated)</th>\n",
       "    </tr>\n",
       "  </thead>\n",
       "  <tbody>\n",
       "    <tr>\n",
       "      <th>0</th>\n",
       "      <td>SGDRegressor</td>\n",
       "      <td>8.919084</td>\n",
       "      <td>125.551328</td>\n",
       "      <td>0.57915</td>\n",
       "      <td>10.935058</td>\n",
       "    </tr>\n",
       "    <tr>\n",
       "      <th>1</th>\n",
       "      <td>LinearRegression</td>\n",
       "      <td>8.896028</td>\n",
       "      <td>125.265338</td>\n",
       "      <td>0.580109</td>\n",
       "      <td>10.935058</td>\n",
       "    </tr>\n",
       "  </tbody>\n",
       "</table>\n",
       "</div>"
      ],
      "text/plain": [
       "              Model       MAE         MSE  r2 Score RMSE (Cross Validated)\n",
       "0      SGDRegressor  8.919084  125.551328   0.57915              10.935058\n",
       "1  LinearRegression  8.896028  125.265338  0.580109              10.935058"
      ]
     },
     "execution_count": 108,
     "metadata": {},
     "output_type": "execute_result"
    }
   ],
   "source": [
    "models.sort_values(by=\"RMSE (Cross Validated)\")"
   ]
  },
  {
   "cell_type": "code",
   "execution_count": null,
   "id": "4459054b",
   "metadata": {},
   "outputs": [],
   "source": []
  }
 ],
 "metadata": {
  "kernelspec": {
   "display_name": "Python 3 (ipykernel)",
   "language": "python",
   "name": "python3"
  },
  "language_info": {
   "codemirror_mode": {
    "name": "ipython",
    "version": 3
   },
   "file_extension": ".py",
   "mimetype": "text/x-python",
   "name": "python",
   "nbconvert_exporter": "python",
   "pygments_lexer": "ipython3",
   "version": "3.9.12"
  }
 },
 "nbformat": 4,
 "nbformat_minor": 5
}
